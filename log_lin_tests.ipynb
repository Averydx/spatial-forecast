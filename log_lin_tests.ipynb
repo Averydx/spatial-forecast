{
 "cells": [
  {
   "cell_type": "code",
   "execution_count": null,
   "id": "initial_id",
   "metadata": {
    "collapsed": true
   },
   "outputs": [],
   "source": [
    "from library import gen_population, gen_movement, gen_mov_ratio, run_particle_filter\n",
    "import numpy as np\n",
    "from particle_filter import ParticleFilterParams, ParticleFilterState\n",
    "import matplotlib.pyplot as plt\n",
    "from beta import gen_beta, gen_step_beta\n",
    "\n",
    "\n",
    "np.random.seed(2)\n",
    "n = 4\n",
    "population = gen_population(n)\n",
    "movement = gen_movement(population, Chain=1)\n",
    "mov_ratio = gen_mov_ratio(movement, population)\n",
    "\n",
    "# Assuming 'results', 'population', 'movement', 'SIR_tau_leap', and 'n' are defined\n",
    "params = ParticleFilterParams(\n",
    "    num_particles=1000,\n",
    "    num_locations=n,\n",
    "    population=population,\n",
    "    movement=movement,\n",
    "    results=results\n",
    ")\n",
    "\n",
    "state = run_particle_filter(params)\n",
    "\n",
    "beta_post_lin = state.beta_post\n",
    "m_post_lin = state.m_post\n"
   ]
  }
 ],
 "metadata": {
  "kernelspec": {
   "display_name": "Python 3",
   "language": "python",
   "name": "python3"
  },
  "language_info": {
   "codemirror_mode": {
    "name": "ipython",
    "version": 2
   },
   "file_extension": ".py",
   "mimetype": "text/x-python",
   "name": "python",
   "nbconvert_exporter": "python",
   "pygments_lexer": "ipython2",
   "version": "2.7.6"
  }
 },
 "nbformat": 4,
 "nbformat_minor": 5
}
